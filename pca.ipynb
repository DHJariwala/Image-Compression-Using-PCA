{
 "cells": [
  {
   "cell_type": "code",
   "execution_count": 1,
   "metadata": {},
   "outputs": [],
   "source": [
    "from PIL import Image as pimg\n",
    "import matplotlib.image as img\n",
    "import numpy as np\n",
    "from numpy.linalg import eig\n",
    "import os"
   ]
  },
  {
   "cell_type": "code",
   "execution_count": 2,
   "metadata": {},
   "outputs": [],
   "source": [
    "# Number of images\n",
    "n = 40\n",
    "\n",
    "# All images are of same dimension\n",
    "# Saving the dimension\n",
    "image_dimensions = img.imread('images/f1.pgm').shape\n",
    "\n",
    "# Taking all the images and converting them to 1d array\n",
    "# Next, append all the array into one array\n",
    "# Take transpose of this array to get 'F' matrix\n",
    "image_matrix_list = []\n",
    "for i in range(1,41):\n",
    "    image_matrix_list = np.append(image_matrix_list,img.imread(f'images/f{i}.pgm').flatten())\n",
    "reshaped_matrix = np.reshape(image_matrix_list,(n,image_dimensions[0]*image_dimensions[1]))\n",
    "image_matrix = reshaped_matrix.T\n",
    "#print(img.imread('images/f3.pgm').flatten())\n",
    "#print(reshaped_matrix)"
   ]
  },
  {
   "cell_type": "code",
   "execution_count": 3,
   "metadata": {},
   "outputs": [
    {
     "name": "stdout",
     "output_type": "stream",
     "text": [
      "[[48. 49. 45. ... 56. 56. 54.]\n",
      " [45. 52. 39. ... 52. 50. 51.]\n",
      " [45. 50. 42. ... 48. 53. 50.]\n",
      " ...\n",
      " [50. 48. 50. ... 45. 46. 46.]\n",
      " [45. 54. 49. ... 46. 47. 47.]\n",
      " [51. 51. 51. ... 47. 46. 46.]]\n",
      "[48. 49. 45. ... 47. 46. 46.]\n"
     ]
    }
   ],
   "source": [
    "# print(reshaped_matrix[0])\n",
    "i = np.reshape(reshaped_matrix[0],(image_dimensions[0],image_dimensions[1]))\n",
    "print(i)\n",
    "print(reshaped_matrix[0])\n",
    "a = pimg.fromarray(i)\n",
    "a.show()\n",
    "# pimg.fromarray(img.imread('images/f1.pgm'))"
   ]
  },
  {
   "cell_type": "code",
   "execution_count": 4,
   "metadata": {},
   "outputs": [],
   "source": [
    "# Subtract mean\n",
    "mean = image_matrix.mean(axis=1,keepdims=True)/40\n",
    "# print(mean.shape)\n",
    "# print(mean)\n",
    "# print(image_matrix.shape)\n",
    "# print(image_matrix - mean)\n",
    "\n",
    "# subtracted_mean = image_matrix - mean\n",
    "F = image_matrix - mean\n",
    "\n",
    "# print(subtracted_mean.shape)\n",
    "# tmp = np.reshape(mean,(image_dimensions[0],image_dimensions[1]))\n",
    "# print()\n",
    "# print()\n",
    "# print(tmp)\n",
    "# print(subtracted_mean)\n",
    "# a = pimg.fromarray(tmp)\n",
    "# a.show()"
   ]
  },
  {
   "cell_type": "code",
   "execution_count": 5,
   "metadata": {},
   "outputs": [
    {
     "name": "stdout",
     "output_type": "stream",
     "text": [
      "[[325192.25625    324232.25625    325484.3759375  ... 245961.3540625\n",
      "  243577.4440625  244869.9890625 ]\n",
      " [324232.25625    324008.25625    324912.3759375  ... 245008.3540625\n",
      "  242937.4440625  244201.9890625 ]\n",
      " [325484.3759375  324912.3759375  326297.28701563 ... 245577.20248438\n",
      "  243322.80598438 244698.60773437]\n",
      " ...\n",
      " [245961.3540625  245008.3540625  245577.20248438 ... 300052.13201562\n",
      "  290959.12051562 284726.61476562]\n",
      " [243577.4440625  242937.4440625  243322.80598438 ... 290959.12051562\n",
      "  286132.84501563 279962.70726563]\n",
      " [244869.9890625  244201.9890625  244698.60773437 ... 284726.61476562\n",
      "  279962.70726563 277850.25351562]]\n"
     ]
    }
   ],
   "source": [
    "R = np.dot(F,F.T)\n",
    "print(R)"
   ]
  },
  {
   "cell_type": "code",
   "execution_count": 6,
   "metadata": {},
   "outputs": [
    {
     "name": "stdout",
     "output_type": "stream",
     "text": [
      "[[-7.27369159e-03+0.00000000e+00j -1.02099329e-02+0.00000000e+00j\n",
      "  -2.05398472e-02+0.00000000e+00j ... -1.28520307e-03+3.84393895e-04j\n",
      "  -6.85034855e-04-7.98821112e-04j -6.85034855e-04+7.98821112e-04j]\n",
      " [-7.29774353e-03+0.00000000e+00j -1.02343079e-02+0.00000000e+00j\n",
      "  -1.96434885e-02+0.00000000e+00j ... -1.05960747e-05+4.51974116e-06j\n",
      "  -1.98138663e-05-8.76144860e-06j -1.98138663e-05+8.76144860e-06j]\n",
      " [-7.31662609e-03+0.00000000e+00j -1.01348485e-02+0.00000000e+00j\n",
      "  -1.96709933e-02+0.00000000e+00j ... -2.71132391e-05-5.73339090e-05j\n",
      "  -1.70159133e-04-6.04773802e-05j -1.70159133e-04+6.04773802e-05j]\n",
      " ...\n",
      " [-6.29781623e-03+0.00000000e+00j  1.17150030e-03+0.00000000e+00j\n",
      "  -1.63911954e-02+0.00000000e+00j ...  1.04830726e-02+3.95614284e-03j\n",
      "   1.71397214e-02+1.79961913e-02j  1.71397214e-02-1.79961913e-02j]\n",
      " [-6.23265337e-03+0.00000000e+00j -3.95615056e-04+0.00000000e+00j\n",
      "  -1.42120381e-02+0.00000000e+00j ...  7.72122980e-03-3.99262405e-03j\n",
      "   1.15352645e-02-2.28364047e-03j  1.15352645e-02+2.28364047e-03j]\n",
      " [-6.22559985e-03+0.00000000e+00j -1.47851711e-03+0.00000000e+00j\n",
      "  -1.44074253e-02+0.00000000e+00j ... -1.61237342e-02+7.02415632e-03j\n",
      "   6.31687637e-03+3.94026120e-03j  6.31687637e-03-3.94026120e-03j]]\n"
     ]
    }
   ],
   "source": [
    "evalue,evector = eig(R)\n",
    "print(evector)"
   ]
  },
  {
   "cell_type": "code",
   "execution_count": 79,
   "metadata": {},
   "outputs": [
    {
     "name": "stdout",
     "output_type": "stream",
     "text": [
      "(10304, 10304)\n"
     ]
    }
   ],
   "source": [
    "print(evector.shape)"
   ]
  },
  {
   "cell_type": "code",
   "execution_count": 97,
   "metadata": {},
   "outputs": [],
   "source": [
    "# Define k\n",
    "# k = int(evector.shape[0]*0.1)\n",
    "k = 5\n",
    "# k = 10\n",
    "# print(k)"
   ]
  },
  {
   "cell_type": "code",
   "execution_count": 98,
   "metadata": {},
   "outputs": [],
   "source": [
    "# print(evector[:,:k].shape)\n",
    "E = evector[:,:k]"
   ]
  },
  {
   "cell_type": "code",
   "execution_count": 99,
   "metadata": {},
   "outputs": [
    {
     "name": "stdout",
     "output_type": "stream",
     "text": [
      "[[-13416.12283859+0.j -11580.51826348+0.j -11612.6373846 +0.j\n",
      "  -11861.60451494+0.j -12594.24860606+0.j -12953.41298824+0.j\n",
      "  -11573.48759764+0.j -12114.36577296+0.j -11214.01419769+0.j\n",
      "   -9912.96750534+0.j -10856.18083306+0.j -13516.14480236+0.j\n",
      "  -12680.4503076 +0.j -10942.21429042+0.j -11452.14181118+0.j\n",
      "  -10630.42814518+0.j -12122.60566137+0.j -13880.43082688+0.j\n",
      "  -12366.56625944+0.j  -9918.86191858+0.j  -9856.82067901+0.j\n",
      "   -8690.02588482+0.j -11934.60216303+0.j -10891.72220612+0.j\n",
      "  -12768.92520609+0.j -12298.33314823+0.j -12286.34914066+0.j\n",
      "  -11616.69383256+0.j  -8622.93546227+0.j -10561.36415467+0.j\n",
      "  -10500.61644844+0.j -13310.09997365+0.j  -8937.28024761+0.j\n",
      "   -9705.58587263+0.j -11629.04950333+0.j -13127.99477407+0.j\n",
      "  -11666.68207131+0.j -11436.71750165+0.j  -8699.17490259+0.j\n",
      "   -6246.48439878+0.j]\n",
      " [   261.07914406+0.j   1184.03555013+0.j   -221.02448794+0.j\n",
      "    -756.53761773+0.j    228.1671454 +0.j  -2517.46380777+0.j\n",
      "   -1305.32012455+0.j   -851.08224594+0.j  -1677.14104968+0.j\n",
      "   -2803.63067157+0.j   -477.08695229+0.j    888.4937663 +0.j\n",
      "    2023.85534401+0.j   3553.97087268+0.j    515.76898361+0.j\n",
      "    1855.58209773+0.j    811.82602892+0.j    598.4749148 +0.j\n",
      "    2418.00306209+0.j  -2188.30127744+0.j  -1358.39122709+0.j\n",
      "     393.17694255+0.j  -2424.52391407+0.j   -548.22337445+0.j\n",
      "    -716.30722831+0.j   1612.76179063+0.j   2183.36815393+0.j\n",
      "    2624.84710145+0.j  -1450.91801013+0.j  -2088.56288923+0.j\n",
      "   -1803.95158796+0.j   1174.95862267+0.j  -1308.16934771+0.j\n",
      "    1514.01789375+0.j   -861.72385379+0.j   -805.05460315+0.j\n",
      "    2072.81434563+0.j  -2450.74320823+0.j    -73.48742325+0.j\n",
      "    1527.10177223+0.j]\n",
      " [  1966.46424332+0.j   1497.05582818+0.j   -366.89257651+0.j\n",
      "    -240.71840955+0.j  -1937.03690754+0.j  -1277.87667922+0.j\n",
      "    1373.44178608+0.j    599.75476322+0.j   -594.78841061+0.j\n",
      "    -479.16286166+0.j   1230.78153544+0.j    612.24949166+0.j\n",
      "   -1788.72456286+0.j  -1216.00809754+0.j   1289.74468418+0.j\n",
      "    2003.55761383+0.j   1602.50571245+0.j   -150.2915561 +0.j\n",
      "    1114.1035807 +0.j    426.56154898+0.j   -307.41523838+0.j\n",
      "     113.95976101+0.j   -341.04883624+0.j   2280.97212703+0.j\n",
      "    -904.81602381+0.j  -1267.76138539+0.j    920.76389439+0.j\n",
      "   -1676.51011151+0.j   -683.28242683+0.j    356.07639716+0.j\n",
      "    -562.18633794+0.j    954.23353997+0.j   -438.63529484+0.j\n",
      "    -383.36446994+0.j  -2160.94656352+0.j   1783.71059043+0.j\n",
      "   -1560.85516306+0.j   -660.08689178+0.j   -952.52661187+0.j\n",
      "   -1465.79896999+0.j]\n",
      " [  -275.72402634+0.j    -20.62177422+0.j   -588.42182029+0.j\n",
      "    -675.3002268 +0.j    124.34478533+0.j   1615.91868282+0.j\n",
      "     -94.56549816+0.j  -1944.05241992+0.j    146.02425229+0.j\n",
      "   -1987.74363486+0.j  -1468.36978164+0.j  -1174.0038579 +0.j\n",
      "    -414.83344572+0.j   -327.0670219 +0.j    928.93187696+0.j\n",
      "     563.12528571+0.j    226.69631992+0.j    572.52491742+0.j\n",
      "     279.69771136+0.j    725.31298999+0.j    654.27781737+0.j\n",
      "     344.90801146+0.j  -1056.30139772+0.j    692.42349933+0.j\n",
      "    -113.75762527+0.j   -897.45070433+0.j   -408.59425454+0.j\n",
      "   -1430.60110736+0.j    558.19959029+0.j    692.89530676+0.j\n",
      "     210.08864609+0.j    672.06362288+0.j   1758.64472626+0.j\n",
      "    2526.24487912+0.j    939.08575523+0.j    413.62916367+0.j\n",
      "   -1398.79459947+0.j  -1123.21079852+0.j    579.12112321+0.j\n",
      "    2509.58310425+0.j]\n",
      " [   367.21464661+0.j    -17.91640687+0.j  -1137.40090523+0.j\n",
      "     204.75618969+0.j    452.84556915+0.j    202.67524775+0.j\n",
      "   -1575.36072218+0.j   2132.68830824+0.j   -181.76299541+0.j\n",
      "    1053.06335468+0.j   1624.12881071+0.j   -951.37091395+0.j\n",
      "    -318.21542877+0.j    702.50709495+0.j    587.4932243 +0.j\n",
      "     247.48150439+0.j  -1329.2760253 +0.j  -1880.33241988+0.j\n",
      "    1025.53770678+0.j   -300.70354117+0.j   -670.18537966+0.j\n",
      "     885.31303005+0.j   -131.22026044+0.j    413.71792444+0.j\n",
      "    -446.94264673+0.j   -811.40508304+0.j   1503.17181734+0.j\n",
      "    -331.83001052+0.j    166.94891659+0.j    390.91314251+0.j\n",
      "    -289.48649903+0.j    -67.11837852+0.j    450.61649333+0.j\n",
      "    1408.50844537+0.j     23.02226696+0.j  -2421.0165483 +0.j\n",
      "   -1553.91589635+0.j    770.53910413+0.j   1578.68989909+0.j\n",
      "     203.08935449+0.j]]\n"
     ]
    }
   ],
   "source": [
    "P = np.dot(E.T,F)\n",
    "print(P)"
   ]
  },
  {
   "cell_type": "code",
   "execution_count": 100,
   "metadata": {},
   "outputs": [
    {
     "data": {
      "text/plain": [
       "(5, 40)"
      ]
     },
     "execution_count": 100,
     "metadata": {},
     "output_type": "execute_result"
    }
   ],
   "source": [
    "P.shape"
   ]
  },
  {
   "cell_type": "code",
   "execution_count": 101,
   "metadata": {},
   "outputs": [
    {
     "data": {
      "text/plain": [
       "(10304, 5)"
      ]
     },
     "execution_count": 101,
     "metadata": {},
     "output_type": "execute_result"
    }
   ],
   "source": [
    "E.shape"
   ]
  },
  {
   "cell_type": "code",
   "execution_count": 102,
   "metadata": {},
   "outputs": [],
   "source": [
    "reconstructed_image = np.dot(E,P)\n",
    "# np.reshape(reconstructed_image.real.T[0],(image_dimensions[0],image_dimensions[1]))"
   ]
  },
  {
   "cell_type": "code",
   "execution_count": 103,
   "metadata": {},
   "outputs": [],
   "source": [
    "image_index = 1"
   ]
  },
  {
   "cell_type": "code",
   "execution_count": 104,
   "metadata": {},
   "outputs": [],
   "source": [
    "a = pimg.fromarray(np.reshape(reconstructed_image.real.T[image_index-1],(image_dimensions[0],image_dimensions[1])))\n",
    "# a.show()\n",
    "a.convert(\"L\").save(f\"output/result_{image_index}_{k}.jpg\")"
   ]
  },
  {
   "cell_type": "code",
   "execution_count": 105,
   "metadata": {},
   "outputs": [],
   "source": [
    "b = pimg.fromarray(img.imread(f'images/f{image_index}.pgm'))\n",
    "# b.show()\n",
    "b.convert(\"L\").save(f\"output/og_{image_index}_{k}.jpg\")"
   ]
  },
  {
   "cell_type": "code",
   "execution_count": null,
   "metadata": {},
   "outputs": [],
   "source": []
  }
 ],
 "metadata": {
  "kernelspec": {
   "display_name": "Python 3",
   "language": "python",
   "name": "python3"
  },
  "language_info": {
   "codemirror_mode": {
    "name": "ipython",
    "version": 3
   },
   "file_extension": ".py",
   "mimetype": "text/x-python",
   "name": "python",
   "nbconvert_exporter": "python",
   "pygments_lexer": "ipython3",
   "version": "3.7.4"
  }
 },
 "nbformat": 4,
 "nbformat_minor": 2
}
